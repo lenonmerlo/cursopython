{
  "nbformat": 4,
  "nbformat_minor": 0,
  "metadata": {
    "colab": {
      "provenance": []
    },
    "kernelspec": {
      "name": "python3",
      "display_name": "Python 3"
    },
    "language_info": {
      "name": "python"
    }
  },
  "cells": [
    {
      "cell_type": "markdown",
      "source": [
        "# **Aula 1 - Conhecendo a biblioteca Matplotlib**\n"
      ],
      "metadata": {
        "id": "lGyDSrtf2F8f"
      }
    },
    {
      "cell_type": "markdown",
      "source": [
        "##**Conhecendo os dados**"
      ],
      "metadata": {
        "id": "xEWW2Wfv2vS_"
      }
    },
    {
      "cell_type": "markdown",
      "source": [
        "### Importando os dados"
      ],
      "metadata": {
        "id": "V7MNJv1uSvil"
      }
    },
    {
      "cell_type": "code",
      "source": [
        "import pandas as pd"
      ],
      "metadata": {
        "id": "mRZKNPhhdgj2"
      },
      "execution_count": null,
      "outputs": []
    },
    {
      "cell_type": "code",
      "source": [
        "df = pd.read_csv('/content/imigrantes_canada.csv')"
      ],
      "metadata": {
        "id": "Gfn28OBnV2Fe",
        "outputId": "c169991d-2afb-46ca-8ea9-bb3e021b16b4",
        "colab": {
          "base_uri": "https://localhost:8080/",
          "height": 304
        }
      },
      "execution_count": null,
      "outputs": [
        {
          "output_type": "error",
          "ename": "FileNotFoundError",
          "evalue": "[Errno 2] No such file or directory: '/content/imigrantes_canada.csv'",
          "traceback": [
            "\u001b[0;31m---------------------------------------------------------------------------\u001b[0m",
            "\u001b[0;31mFileNotFoundError\u001b[0m                         Traceback (most recent call last)",
            "\u001b[0;32m<ipython-input-4-f9b529f2dfc5>\u001b[0m in \u001b[0;36m<cell line: 1>\u001b[0;34m()\u001b[0m\n\u001b[0;32m----> 1\u001b[0;31m \u001b[0mdf\u001b[0m \u001b[0;34m=\u001b[0m \u001b[0mpd\u001b[0m\u001b[0;34m.\u001b[0m\u001b[0mread_csv\u001b[0m\u001b[0;34m(\u001b[0m\u001b[0;34m'/content/imigrantes_canada.csv'\u001b[0m\u001b[0;34m)\u001b[0m\u001b[0;34m\u001b[0m\u001b[0;34m\u001b[0m\u001b[0m\n\u001b[0m",
            "\u001b[0;32m/usr/local/lib/python3.10/dist-packages/pandas/io/parsers/readers.py\u001b[0m in \u001b[0;36mread_csv\u001b[0;34m(filepath_or_buffer, sep, delimiter, header, names, index_col, usecols, dtype, engine, converters, true_values, false_values, skipinitialspace, skiprows, skipfooter, nrows, na_values, keep_default_na, na_filter, verbose, skip_blank_lines, parse_dates, infer_datetime_format, keep_date_col, date_parser, date_format, dayfirst, cache_dates, iterator, chunksize, compression, thousands, decimal, lineterminator, quotechar, quoting, doublequote, escapechar, comment, encoding, encoding_errors, dialect, on_bad_lines, delim_whitespace, low_memory, memory_map, float_precision, storage_options, dtype_backend)\u001b[0m\n\u001b[1;32m    910\u001b[0m     \u001b[0mkwds\u001b[0m\u001b[0;34m.\u001b[0m\u001b[0mupdate\u001b[0m\u001b[0;34m(\u001b[0m\u001b[0mkwds_defaults\u001b[0m\u001b[0;34m)\u001b[0m\u001b[0;34m\u001b[0m\u001b[0;34m\u001b[0m\u001b[0m\n\u001b[1;32m    911\u001b[0m \u001b[0;34m\u001b[0m\u001b[0m\n\u001b[0;32m--> 912\u001b[0;31m     \u001b[0;32mreturn\u001b[0m \u001b[0m_read\u001b[0m\u001b[0;34m(\u001b[0m\u001b[0mfilepath_or_buffer\u001b[0m\u001b[0;34m,\u001b[0m \u001b[0mkwds\u001b[0m\u001b[0;34m)\u001b[0m\u001b[0;34m\u001b[0m\u001b[0;34m\u001b[0m\u001b[0m\n\u001b[0m\u001b[1;32m    913\u001b[0m \u001b[0;34m\u001b[0m\u001b[0m\n\u001b[1;32m    914\u001b[0m \u001b[0;34m\u001b[0m\u001b[0m\n",
            "\u001b[0;32m/usr/local/lib/python3.10/dist-packages/pandas/io/parsers/readers.py\u001b[0m in \u001b[0;36m_read\u001b[0;34m(filepath_or_buffer, kwds)\u001b[0m\n\u001b[1;32m    575\u001b[0m \u001b[0;34m\u001b[0m\u001b[0m\n\u001b[1;32m    576\u001b[0m     \u001b[0;31m# Create the parser.\u001b[0m\u001b[0;34m\u001b[0m\u001b[0;34m\u001b[0m\u001b[0m\n\u001b[0;32m--> 577\u001b[0;31m     \u001b[0mparser\u001b[0m \u001b[0;34m=\u001b[0m \u001b[0mTextFileReader\u001b[0m\u001b[0;34m(\u001b[0m\u001b[0mfilepath_or_buffer\u001b[0m\u001b[0;34m,\u001b[0m \u001b[0;34m**\u001b[0m\u001b[0mkwds\u001b[0m\u001b[0;34m)\u001b[0m\u001b[0;34m\u001b[0m\u001b[0;34m\u001b[0m\u001b[0m\n\u001b[0m\u001b[1;32m    578\u001b[0m \u001b[0;34m\u001b[0m\u001b[0m\n\u001b[1;32m    579\u001b[0m     \u001b[0;32mif\u001b[0m \u001b[0mchunksize\u001b[0m \u001b[0;32mor\u001b[0m \u001b[0miterator\u001b[0m\u001b[0;34m:\u001b[0m\u001b[0;34m\u001b[0m\u001b[0;34m\u001b[0m\u001b[0m\n",
            "\u001b[0;32m/usr/local/lib/python3.10/dist-packages/pandas/io/parsers/readers.py\u001b[0m in \u001b[0;36m__init__\u001b[0;34m(self, f, engine, **kwds)\u001b[0m\n\u001b[1;32m   1405\u001b[0m \u001b[0;34m\u001b[0m\u001b[0m\n\u001b[1;32m   1406\u001b[0m         \u001b[0mself\u001b[0m\u001b[0;34m.\u001b[0m\u001b[0mhandles\u001b[0m\u001b[0;34m:\u001b[0m \u001b[0mIOHandles\u001b[0m \u001b[0;34m|\u001b[0m \u001b[0;32mNone\u001b[0m \u001b[0;34m=\u001b[0m \u001b[0;32mNone\u001b[0m\u001b[0;34m\u001b[0m\u001b[0;34m\u001b[0m\u001b[0m\n\u001b[0;32m-> 1407\u001b[0;31m         \u001b[0mself\u001b[0m\u001b[0;34m.\u001b[0m\u001b[0m_engine\u001b[0m \u001b[0;34m=\u001b[0m \u001b[0mself\u001b[0m\u001b[0;34m.\u001b[0m\u001b[0m_make_engine\u001b[0m\u001b[0;34m(\u001b[0m\u001b[0mf\u001b[0m\u001b[0;34m,\u001b[0m \u001b[0mself\u001b[0m\u001b[0;34m.\u001b[0m\u001b[0mengine\u001b[0m\u001b[0;34m)\u001b[0m\u001b[0;34m\u001b[0m\u001b[0;34m\u001b[0m\u001b[0m\n\u001b[0m\u001b[1;32m   1408\u001b[0m \u001b[0;34m\u001b[0m\u001b[0m\n\u001b[1;32m   1409\u001b[0m     \u001b[0;32mdef\u001b[0m \u001b[0mclose\u001b[0m\u001b[0;34m(\u001b[0m\u001b[0mself\u001b[0m\u001b[0;34m)\u001b[0m \u001b[0;34m->\u001b[0m \u001b[0;32mNone\u001b[0m\u001b[0;34m:\u001b[0m\u001b[0;34m\u001b[0m\u001b[0;34m\u001b[0m\u001b[0m\n",
            "\u001b[0;32m/usr/local/lib/python3.10/dist-packages/pandas/io/parsers/readers.py\u001b[0m in \u001b[0;36m_make_engine\u001b[0;34m(self, f, engine)\u001b[0m\n\u001b[1;32m   1659\u001b[0m                 \u001b[0;32mif\u001b[0m \u001b[0;34m\"b\"\u001b[0m \u001b[0;32mnot\u001b[0m \u001b[0;32min\u001b[0m \u001b[0mmode\u001b[0m\u001b[0;34m:\u001b[0m\u001b[0;34m\u001b[0m\u001b[0;34m\u001b[0m\u001b[0m\n\u001b[1;32m   1660\u001b[0m                     \u001b[0mmode\u001b[0m \u001b[0;34m+=\u001b[0m \u001b[0;34m\"b\"\u001b[0m\u001b[0;34m\u001b[0m\u001b[0;34m\u001b[0m\u001b[0m\n\u001b[0;32m-> 1661\u001b[0;31m             self.handles = get_handle(\n\u001b[0m\u001b[1;32m   1662\u001b[0m                 \u001b[0mf\u001b[0m\u001b[0;34m,\u001b[0m\u001b[0;34m\u001b[0m\u001b[0;34m\u001b[0m\u001b[0m\n\u001b[1;32m   1663\u001b[0m                 \u001b[0mmode\u001b[0m\u001b[0;34m,\u001b[0m\u001b[0;34m\u001b[0m\u001b[0;34m\u001b[0m\u001b[0m\n",
            "\u001b[0;32m/usr/local/lib/python3.10/dist-packages/pandas/io/common.py\u001b[0m in \u001b[0;36mget_handle\u001b[0;34m(path_or_buf, mode, encoding, compression, memory_map, is_text, errors, storage_options)\u001b[0m\n\u001b[1;32m    857\u001b[0m         \u001b[0;32mif\u001b[0m \u001b[0mioargs\u001b[0m\u001b[0;34m.\u001b[0m\u001b[0mencoding\u001b[0m \u001b[0;32mand\u001b[0m \u001b[0;34m\"b\"\u001b[0m \u001b[0;32mnot\u001b[0m \u001b[0;32min\u001b[0m \u001b[0mioargs\u001b[0m\u001b[0;34m.\u001b[0m\u001b[0mmode\u001b[0m\u001b[0;34m:\u001b[0m\u001b[0;34m\u001b[0m\u001b[0;34m\u001b[0m\u001b[0m\n\u001b[1;32m    858\u001b[0m             \u001b[0;31m# Encoding\u001b[0m\u001b[0;34m\u001b[0m\u001b[0;34m\u001b[0m\u001b[0m\n\u001b[0;32m--> 859\u001b[0;31m             handle = open(\n\u001b[0m\u001b[1;32m    860\u001b[0m                 \u001b[0mhandle\u001b[0m\u001b[0;34m,\u001b[0m\u001b[0;34m\u001b[0m\u001b[0;34m\u001b[0m\u001b[0m\n\u001b[1;32m    861\u001b[0m                 \u001b[0mioargs\u001b[0m\u001b[0;34m.\u001b[0m\u001b[0mmode\u001b[0m\u001b[0;34m,\u001b[0m\u001b[0;34m\u001b[0m\u001b[0;34m\u001b[0m\u001b[0m\n",
            "\u001b[0;31mFileNotFoundError\u001b[0m: [Errno 2] No such file or directory: '/content/imigrantes_canada.csv'"
          ]
        }
      ]
    },
    {
      "cell_type": "code",
      "source": [
        "df"
      ],
      "metadata": {
        "id": "u2ndfZhdV2Hm"
      },
      "execution_count": null,
      "outputs": []
    },
    {
      "cell_type": "code",
      "source": [
        "df.info()"
      ],
      "metadata": {
        "id": "nhbO9Ryvmwsl"
      },
      "execution_count": null,
      "outputs": []
    },
    {
      "cell_type": "markdown",
      "source": [
        "###Realizando alguns tratamentos"
      ],
      "metadata": {
        "id": "WKpx07VQSyPj"
      }
    },
    {
      "cell_type": "code",
      "source": [
        "df.set_index('País', inplace=True)"
      ],
      "metadata": {
        "id": "TFISHZBiV2Kg"
      },
      "execution_count": null,
      "outputs": []
    },
    {
      "cell_type": "code",
      "source": [
        "anos = list(map(str, range(1980, 2014)))"
      ],
      "metadata": {
        "id": "pdhQcvffksok"
      },
      "execution_count": null,
      "outputs": []
    },
    {
      "cell_type": "code",
      "source": [
        "anos"
      ],
      "metadata": {
        "id": "XXEVSpDwksrC"
      },
      "execution_count": null,
      "outputs": []
    },
    {
      "cell_type": "markdown",
      "source": [
        "### Extraindo a série de dados para o Brasil"
      ],
      "metadata": {
        "id": "rrpKsger4InS"
      }
    },
    {
      "cell_type": "code",
      "source": [
        "brasil = df.loc['Brasil', anos]"
      ],
      "metadata": {
        "id": "p_KGLWnNkstL"
      },
      "execution_count": null,
      "outputs": []
    },
    {
      "cell_type": "code",
      "source": [
        "brasil"
      ],
      "metadata": {
        "id": "Y7bydwapstIp"
      },
      "execution_count": null,
      "outputs": []
    },
    {
      "cell_type": "code",
      "source": [
        "brasil_dict = {'ano': brasil.index.tolist(), 'imigrantes': brasil.values.tolist()}\n",
        "dados_brasil = pd.DataFrame(brasil_dict)"
      ],
      "metadata": {
        "id": "7OebBdiBwqz0"
      },
      "execution_count": null,
      "outputs": []
    },
    {
      "cell_type": "code",
      "source": [
        "dados_brasil"
      ],
      "metadata": {
        "id": "9HnHZzvHyoNx"
      },
      "execution_count": null,
      "outputs": []
    },
    {
      "cell_type": "markdown",
      "source": [
        "##**Criando o primeiro gráfico com Matplotlib**\n",
        "\n",
        "> Documentação da biblioteca: https://matplotlib.org/"
      ],
      "metadata": {
        "id": "1dY5hdvSV1vW"
      }
    },
    {
      "cell_type": "code",
      "execution_count": null,
      "metadata": {
        "id": "Hi_CL_1jjvD7"
      },
      "outputs": [],
      "source": [
        "import matplotlib.pyplot as plt"
      ]
    },
    {
      "cell_type": "code",
      "source": [
        "plt.plot(dados_brasil['ano'], dados_brasil['imigrantes'])"
      ],
      "metadata": {
        "id": "s3_EtAKrWEQX"
      },
      "execution_count": null,
      "outputs": []
    },
    {
      "cell_type": "markdown",
      "source": [
        "### Escolhendo quais anos aparecerem no eixo X com `plt.xticks`"
      ],
      "metadata": {
        "id": "z0QbsKoNED0Q"
      }
    },
    {
      "cell_type": "code",
      "source": [
        "plt.plot(dados_brasil['ano'], dados_brasil['imigrantes'])\n",
        "plt.xticks(['1980', '1985', '1990', '1995', '2000', '2005', '2010'])"
      ],
      "metadata": {
        "id": "hCdmBdYqDmv6"
      },
      "execution_count": null,
      "outputs": []
    },
    {
      "cell_type": "markdown",
      "source": [
        "### Alterando os ticks do eixo Y com `plt.yticks`"
      ],
      "metadata": {
        "id": "zYko_5XC9IRX"
      }
    },
    {
      "cell_type": "code",
      "source": [
        "plt.plot(dados_brasil['ano'], dados_brasil['imigrantes'])\n",
        "plt.xticks(['1980', '1985', '1990', '1995', '2000', '2005', '2010'])\n",
        "plt.yticks([500, 1000, 1500, 2000, 2500, 3000])"
      ],
      "metadata": {
        "id": "PHRBUxEQ9Hm5"
      },
      "execution_count": null,
      "outputs": []
    },
    {
      "cell_type": "markdown",
      "source": [
        "###Exibindo gráfico com `plt.show()`"
      ],
      "metadata": {
        "id": "Q2qnZ9ff4ytz"
      }
    },
    {
      "cell_type": "code",
      "source": [
        "plt.plot(dados_brasil['ano'], dados_brasil['imigrantes'])\n",
        "plt.xticks(['1980', '1985', '1990', '1995', '2000', '2005', '2010'])\n",
        "plt.show()"
      ],
      "metadata": {
        "id": "6bbz-2lTWESn"
      },
      "execution_count": null,
      "outputs": []
    },
    {
      "cell_type": "markdown",
      "source": [
        "### Modificando o tamanho do gráfico com a função `plt.figure()`"
      ],
      "metadata": {
        "id": "E8AQ5pXvqiDl"
      }
    },
    {
      "cell_type": "code",
      "source": [
        "plt.figure(figsize=(8,4))\n",
        "plt.plot(dados_brasil['ano'], dados_brasil['imigrantes'])\n",
        "plt.xticks(['1980', '1985', '1990', '1995', '2000', '2005', '2010'])\n",
        "plt.show()"
      ],
      "metadata": {
        "id": "25dzyqO4qZSB"
      },
      "execution_count": null,
      "outputs": []
    },
    {
      "cell_type": "markdown",
      "source": [
        "##**Adicionando títulos e rótulos com Matplotlib**"
      ],
      "metadata": {
        "id": "qZp2h_nTWEfe"
      }
    },
    {
      "cell_type": "markdown",
      "source": [
        "### Adicionando título com `plt.title()`\n",
        "\n",
        "\n",
        "\n"
      ],
      "metadata": {
        "id": "oBfcPNKW5M2k"
      }
    },
    {
      "cell_type": "code",
      "source": [
        "plt.figure(figsize=(8,4))\n",
        "plt.plot(dados_brasil['ano'], dados_brasil['imigrantes'])\n",
        "plt.title('Imigração do Brasil para o Canadá')\n",
        "plt.xticks(['1980', '1985', '1990', '1995', '2000', '2005', '2010'])\n",
        "plt.show()"
      ],
      "metadata": {
        "id": "E2WNRFVAWMBb"
      },
      "execution_count": null,
      "outputs": []
    },
    {
      "cell_type": "markdown",
      "source": [
        "### Adicionando rótulos aos eixos X e Y usando `plt.xlabel()` e `plt.ylabel()`\n"
      ],
      "metadata": {
        "id": "168xhkPcoVm1"
      }
    },
    {
      "cell_type": "code",
      "source": [
        "plt.figure(figsize=(8,4))\n",
        "plt.plot(dados_brasil['ano'], dados_brasil['imigrantes'])\n",
        "plt.title('Imigração do Brasil para o Canadá')\n",
        "plt.xlabel('Ano')\n",
        "plt.ylabel('Número de imigrantes')\n",
        "plt.xticks(['1980', '1985', '1990', '1995', '2000', '2005', '2010'])\n",
        "plt.show()"
      ],
      "metadata": {
        "id": "3b8FbL6ykEMC"
      },
      "execution_count": null,
      "outputs": []
    },
    {
      "cell_type": "markdown",
      "source": [
        "#**Aula 2 - Criando figuras com Matplotlib**\n"
      ],
      "metadata": {
        "id": "5lGgYqlQWSkH"
      }
    },
    {
      "cell_type": "markdown",
      "source": [
        "##**Criando uma figura**"
      ],
      "metadata": {
        "id": "W2aFmLuSFPOf"
      }
    },
    {
      "cell_type": "code",
      "source": [
        "fig, ax = plt.subplots(figsize=(8,4))\n",
        "ax.plot(dados_brasil['ano'], dados_brasil['imigrantes'])\n",
        "plt.show()"
      ],
      "metadata": {
        "id": "DzAEMdDJWarP"
      },
      "execution_count": null,
      "outputs": []
    },
    {
      "cell_type": "markdown",
      "source": [
        "### Ajustando a frequência dos rótulos do eixo X"
      ],
      "metadata": {
        "id": "Zwpvt52Qwhhl"
      }
    },
    {
      "cell_type": "code",
      "source": [
        "fig, ax = plt.subplots(figsize=(8,4))\n",
        "ax.plot(dados_brasil['ano'], dados_brasil['imigrantes'])\n",
        "ax.xaxis.set_major_locator(plt.MultipleLocator(5))\n",
        "plt.show()"
      ],
      "metadata": {
        "id": "_tUDzknRwb13"
      },
      "execution_count": null,
      "outputs": []
    },
    {
      "cell_type": "markdown",
      "source": [
        "##**Adicionando títulos e rótulos em figuras**"
      ],
      "metadata": {
        "id": "b3RHVAPt_KbC"
      }
    },
    {
      "cell_type": "markdown",
      "source": [
        "### Adicionando título"
      ],
      "metadata": {
        "id": "_GBK-FyBADEF"
      }
    },
    {
      "cell_type": "code",
      "source": [
        "fig, ax = plt.subplots(figsize=(8,4))\n",
        "ax.plot(dados_brasil['ano'], dados_brasil['imigrantes'])\n",
        "ax.set_title('Imigração do Brasil para o Canadá\\n1980 a 2013')\n",
        "ax.xaxis.set_major_locator(plt.MultipleLocator(5))\n",
        "plt.show()"
      ],
      "metadata": {
        "id": "tKsgDKHw9jrn"
      },
      "execution_count": null,
      "outputs": []
    },
    {
      "cell_type": "markdown",
      "source": [
        "### Adicionando rótulos"
      ],
      "metadata": {
        "id": "IlbgJS2tz_o8"
      }
    },
    {
      "cell_type": "code",
      "source": [
        "fig, ax = plt.subplots(figsize=(8,4))\n",
        "ax.plot(dados_brasil['ano'], dados_brasil['imigrantes'])\n",
        "ax.set_title('Imigração do Brasil para o Canadá\\n1980 a 2013')\n",
        "ax.set_ylabel('Número de imigrantes')\n",
        "ax.set_xlabel('Ano')\n",
        "ax.xaxis.set_major_locator(plt.MultipleLocator(5))\n",
        "plt.show()"
      ],
      "metadata": {
        "id": "jgXfJu06_LkS"
      },
      "execution_count": null,
      "outputs": []
    },
    {
      "cell_type": "markdown",
      "source": [
        "##**Criando subplots em uma direção**\n",
        "\n"
      ],
      "metadata": {
        "id": "_4oLjXgOWbxy"
      }
    },
    {
      "cell_type": "code",
      "source": [
        "# Criando a figura\n",
        "fig, axs = plt.subplots(1, 2, figsize=(15,5))\n",
        "\n",
        "# Subplot 1: Gráfico de linhas\n",
        "axs[0].plot(dados_brasil['ano'], dados_brasil['imigrantes'])\n",
        "axs[0].set_title('Imigração do Brasil para o Canadá\\n1980 a 2013')\n",
        "axs[0].set_xlabel('Ano')\n",
        "axs[0].set_ylabel('Número de imigrantes')\n",
        "axs[0].xaxis.set_major_locator(plt.MultipleLocator(5))\n",
        "\n",
        "# Subplot 2: Boxplot\n",
        "axs[1].boxplot(dados_brasil['imigrantes'])\n",
        "axs[1].set_title('Box-plot da imigração do Brasil para o Canadá\\n1980 a 2013')\n",
        "axs[1].set_xlabel('Brasil')\n",
        "axs[1].set_ylabel('Número de imigrantes')\n",
        "\n",
        "plt.show()"
      ],
      "metadata": {
        "id": "uce-hwEdWpFg"
      },
      "execution_count": null,
      "outputs": []
    },
    {
      "cell_type": "markdown",
      "source": [
        "### Adicionando grid para entender melhor os valores"
      ],
      "metadata": {
        "id": "ULRYFP9DsKU1"
      }
    },
    {
      "cell_type": "code",
      "source": [
        "# Criando a figura\n",
        "fig, axs = plt.subplots(1, 2, figsize=(15,5))\n",
        "\n",
        "# Subplot 1: Gráfico de linhas\n",
        "axs[0].plot(dados_brasil['ano'], dados_brasil['imigrantes'])\n",
        "axs[0].set_title('Imigração do Brasil para o Canadá\\n1980 a 2013')\n",
        "axs[0].set_xlabel('Ano')\n",
        "axs[0].set_ylabel('Número de imigrantes')\n",
        "axs[0].xaxis.set_major_locator(plt.MultipleLocator(5))\n",
        "axs[0].grid()\n",
        "\n",
        "# Subplot 2: Boxplot\n",
        "axs[1].boxplot(dados_brasil['imigrantes'])\n",
        "axs[1].set_title('Box-plot da imigração do Brasil para o Canadá\\n1980 a 2013')\n",
        "axs[1].set_xlabel('Brasil')\n",
        "axs[1].set_ylabel('Número de imigrantes')\n",
        "axs[1].grid()\n",
        "\n",
        "plt.show()"
      ],
      "metadata": {
        "id": "Ehvk-YtWsHa_"
      },
      "execution_count": null,
      "outputs": []
    },
    {
      "cell_type": "code",
      "source": [
        "dados_brasil.describe()"
      ],
      "metadata": {
        "id": "6Cq_1aLbQTvw"
      },
      "execution_count": null,
      "outputs": []
    },
    {
      "cell_type": "markdown",
      "source": [
        "##**Criando subplots em duas direções**"
      ],
      "metadata": {
        "id": "a1CHvvTaW_mV"
      }
    },
    {
      "cell_type": "code",
      "source": [
        "# Criando a figura\n",
        "fig, axs = plt.subplots(2, 2, figsize=(10, 6))\n",
        "\n",
        "# Subplots\n",
        "axs[0, 0].plot(df.loc['Brasil', anos])\n",
        "axs[0, 0].set_title('Brasil')\n",
        "\n",
        "axs[0, 1].plot(df.loc['Colômbia', anos])\n",
        "axs[0, 1].set_title('Colômbia')\n",
        "\n",
        "axs[1, 0].plot(df.loc['Argentina', anos])\n",
        "axs[1, 0].set_title('Argentina')\n",
        "\n",
        "axs[1, 1].plot(df.loc['Peru', anos])\n",
        "axs[1, 1].set_title('Peru')\n",
        "\n",
        "plt.show()"
      ],
      "metadata": {
        "id": "IatQvUUvMFvR"
      },
      "execution_count": null,
      "outputs": []
    },
    {
      "cell_type": "markdown",
      "source": [
        "### Ajustando o espaçamento\n"
      ],
      "metadata": {
        "id": "zX1-xFBlNZo8"
      }
    },
    {
      "cell_type": "code",
      "source": [
        "# Criando a figura\n",
        "fig, axs = plt.subplots(2, 2, figsize=(10, 6))\n",
        "\n",
        "# Ajustando o espaçamento\n",
        "fig.subplots_adjust(hspace=0.5, wspace=0.3)\n",
        "\n",
        "# Subplots\n",
        "axs[0, 0].plot(df.loc['Brasil', anos])\n",
        "axs[0, 0].set_title('Brasil')\n",
        "\n",
        "axs[0, 1].plot(df.loc['Colômbia', anos])\n",
        "axs[0, 1].set_title('Colômbia')\n",
        "\n",
        "axs[1, 0].plot(df.loc['Argentina', anos])\n",
        "axs[1, 0].set_title('Argentina')\n",
        "\n",
        "axs[1, 1].plot(df.loc['Peru', anos])\n",
        "axs[1, 1].set_title('Peru')\n",
        "\n",
        "plt.show()"
      ],
      "metadata": {
        "id": "78xhIJp4Jh1y"
      },
      "execution_count": null,
      "outputs": []
    },
    {
      "cell_type": "markdown",
      "source": [
        "### Alterando a frequência dos ticks do eixo X em todos os subplots"
      ],
      "metadata": {
        "id": "o_GXPx2JVcNv"
      }
    },
    {
      "cell_type": "code",
      "source": [
        "# Criando a figura\n",
        "fig, axs = plt.subplots(2, 2, figsize=(10, 6))\n",
        "\n",
        "# Ajustando o espaçamento\n",
        "fig.subplots_adjust(hspace=0.5, wspace=0.3)\n",
        "\n",
        "# Subplots\n",
        "axs[0, 0].plot(df.loc['Brasil', anos])\n",
        "axs[0, 0].set_title('Brasil')\n",
        "\n",
        "axs[0, 1].plot(df.loc['Colômbia', anos])\n",
        "axs[0, 1].set_title('Colômbia')\n",
        "\n",
        "axs[1, 0].plot(df.loc['Argentina', anos])\n",
        "axs[1, 0].set_title('Argentina')\n",
        "\n",
        "axs[1, 1].plot(df.loc['Peru', anos])\n",
        "axs[1, 1].set_title('Peru')\n",
        "\n",
        "# Alterando a frequência dos ticks do eixo X em todos os subplots\n",
        "for ax in axs.flat:\n",
        "    ax.xaxis.set_major_locator(plt.MultipleLocator(5))\n",
        "\n",
        "plt.show()"
      ],
      "metadata": {
        "id": "rAaim4vDWfh0"
      },
      "execution_count": null,
      "outputs": []
    },
    {
      "cell_type": "markdown",
      "source": [
        "### Adicionando rótulos para os eixos X e Y"
      ],
      "metadata": {
        "id": "LPOIhXoOWoKE"
      }
    },
    {
      "cell_type": "code",
      "source": [
        "# Criando a figura\n",
        "fig, axs = plt.subplots(2, 2, figsize=(10, 6))\n",
        "\n",
        "# Ajustando o espaçamento\n",
        "fig.subplots_adjust(hspace=0.5, wspace=0.3)\n",
        "\n",
        "# Subplots\n",
        "axs[0, 0].plot(df.loc['Brasil', anos])\n",
        "axs[0, 0].set_title('Brasil')\n",
        "\n",
        "axs[0, 1].plot(df.loc['Colômbia', anos])\n",
        "axs[0, 1].set_title('Colômbia')\n",
        "\n",
        "axs[1, 0].plot(df.loc['Argentina', anos])\n",
        "axs[1, 0].set_title('Argentina')\n",
        "\n",
        "axs[1, 1].plot(df.loc['Peru', anos])\n",
        "axs[1, 1].set_title('Peru')\n",
        "\n",
        "# Alterando a frequência dos ticks do eixo X em todos os subplots\n",
        "for ax in axs.flat:\n",
        "    ax.xaxis.set_major_locator(plt.MultipleLocator(5))\n",
        "\n",
        "# Adicionando rótulos para os eixos X e Y\n",
        "for ax in axs.flat:\n",
        "    ax.set_xlabel('Ano')\n",
        "    ax.set_ylabel('Número de imigrantes')\n",
        "\n",
        "plt.show()"
      ],
      "metadata": {
        "id": "GQ6c8rn3Ntk5"
      },
      "execution_count": null,
      "outputs": []
    },
    {
      "cell_type": "markdown",
      "source": [
        "### Definindo a mesma escala no eixo Y em todos os subplots\n",
        "\n"
      ],
      "metadata": {
        "id": "x89934VhOHJk"
      }
    },
    {
      "cell_type": "code",
      "source": [
        "# Criando a figura\n",
        "fig, axs = plt.subplots(2, 2, figsize=(10, 6))\n",
        "\n",
        "# Ajustando o espaçamento\n",
        "fig.subplots_adjust(hspace=0.5, wspace=0.3)\n",
        "\n",
        "# Subplots\n",
        "axs[0, 0].plot(df.loc['Brasil', anos])\n",
        "axs[0, 0].set_title('Brasil')\n",
        "\n",
        "axs[0, 1].plot(df.loc['Colômbia', anos])\n",
        "axs[0, 1].set_title('Colômbia')\n",
        "\n",
        "axs[1, 0].plot(df.loc['Argentina', anos])\n",
        "axs[1, 0].set_title('Argentina')\n",
        "\n",
        "axs[1, 1].plot(df.loc['Peru', anos])\n",
        "axs[1, 1].set_title('Peru')\n",
        "\n",
        "# Alterando a frequência dos ticks do eixo X em todos os subplots\n",
        "for ax in axs.flat:\n",
        "    ax.xaxis.set_major_locator(plt.MultipleLocator(5))\n",
        "\n",
        "# Adicionando rótulos para os eixos X e Y\n",
        "for ax in axs.flat:\n",
        "    ax.set_xlabel('Ano')\n",
        "    ax.set_ylabel('Número de imigrantes')\n",
        "\n",
        "# Definindo a mesma escala no eixo Y em todos os subplots\n",
        "ymin = 0\n",
        "ymax = 7000\n",
        "for ax in axs.ravel():\n",
        "    ax.set_ylim(ymin, ymax)\n",
        "\n",
        "plt.show()"
      ],
      "metadata": {
        "id": "U_hzqbD_OXKo"
      },
      "execution_count": null,
      "outputs": []
    },
    {
      "cell_type": "markdown",
      "source": [
        "### Adicionando um título geral\n",
        "\n"
      ],
      "metadata": {
        "id": "YgpgsHidU_T3"
      }
    },
    {
      "cell_type": "code",
      "source": [
        "# Criando a figura\n",
        "fig, axs = plt.subplots(2, 2, figsize=(10, 6))\n",
        "\n",
        "# Ajustando o espaçamento\n",
        "fig.subplots_adjust(hspace=0.5, wspace=0.3)\n",
        "\n",
        "# Adicionando um título geral para os subplots\n",
        "fig.suptitle('Imigração dos quatro maiores países da América do Sul para o Canadá de 1980 a 2013')\n",
        "\n",
        "# Subplots\n",
        "axs[0, 0].plot(df.loc['Brasil', anos])\n",
        "axs[0, 0].set_title('Brasil')\n",
        "\n",
        "axs[0, 1].plot(df.loc['Colômbia', anos])\n",
        "axs[0, 1].set_title('Colômbia')\n",
        "\n",
        "axs[1, 0].plot(df.loc['Argentina', anos])\n",
        "axs[1, 0].set_title('Argentina')\n",
        "\n",
        "axs[1, 1].plot(df.loc['Peru', anos])\n",
        "axs[1, 1].set_title('Peru')\n",
        "\n",
        "# Alterando a frequência dos ticks do eixo X em todos os subplots\n",
        "for ax in axs.flat:\n",
        "    ax.xaxis.set_major_locator(plt.MultipleLocator(5))\n",
        "\n",
        "# Adicionando rótulos para os eixos X e Y\n",
        "for ax in axs.flat:\n",
        "    ax.set_xlabel('Ano')\n",
        "    ax.set_ylabel('Número de imigrantes')\n",
        "\n",
        "# Definindo a mesma escala no eixo Y em todos os subplots\n",
        "ymin = 0\n",
        "ymax = 7000\n",
        "for ax in axs.ravel():\n",
        "    ax.set_ylim(ymin, ymax)\n",
        "\n",
        "plt.show()"
      ],
      "metadata": {
        "id": "MpikVLYcS96g"
      },
      "execution_count": null,
      "outputs": []
    },
    {
      "cell_type": "markdown",
      "source": [
        "# **Aula 3 - Customizando com Matplotlib**"
      ],
      "metadata": {
        "id": "tIjwL5D02Oic"
      }
    },
    {
      "cell_type": "markdown",
      "source": [
        "##**Personalizando visualizações com Matplotlib**"
      ],
      "metadata": {
        "id": "nOOiHwkgD4ta"
      }
    },
    {
      "cell_type": "markdown",
      "source": [
        "### Alterando o tamanho das fontes"
      ],
      "metadata": {
        "id": "7ApdgOsDFJCv"
      }
    },
    {
      "cell_type": "code",
      "source": [
        "fig, ax = plt.subplots(figsize=(8, 4))\n",
        "ax.plot(dados_brasil['ano'], dados_brasil['imigrantes'])\n",
        "ax.set_title('Imigração do Brasil para o Canadá\\n1980 a 2013', fontsize=18)\n",
        "ax.set_ylabel('Número de imigrantes', fontsize=14)\n",
        "ax.set_xlabel('Ano', fontsize=14)\n",
        "ax.yaxis.set_tick_params(labelsize=12)\n",
        "ax.xaxis.set_tick_params(labelsize=12)\n",
        "ax.xaxis.set_major_locator(plt.MultipleLocator(5))\n",
        "plt.show()"
      ],
      "metadata": {
        "id": "8tbqAdwkmL1B"
      },
      "execution_count": null,
      "outputs": []
    },
    {
      "cell_type": "markdown",
      "source": [
        "### Mudando a posição do título"
      ],
      "metadata": {
        "id": "SCepbuEHshR-"
      }
    },
    {
      "cell_type": "code",
      "source": [
        "fig, ax = plt.subplots(figsize=(8, 4))\n",
        "ax.plot(dados_brasil['ano'], dados_brasil['imigrantes'])\n",
        "ax.set_title('Imigração do Brasil para o Canadá\\n1980 a 2013', fontsize=18, loc='left')\n",
        "ax.set_ylabel('Número de imigrantes', fontsize=14)\n",
        "ax.set_xlabel('Ano', fontsize=14)\n",
        "ax.yaxis.set_tick_params(labelsize=12)\n",
        "ax.xaxis.set_tick_params(labelsize=12)\n",
        "ax.xaxis.set_major_locator(plt.MultipleLocator(5))\n",
        "plt.show()"
      ],
      "metadata": {
        "id": "1gpb8EZQsdcN"
      },
      "execution_count": null,
      "outputs": []
    },
    {
      "cell_type": "markdown",
      "source": [
        "### Mudando a espessura da linha"
      ],
      "metadata": {
        "id": "y3mFVcvtuPor"
      }
    },
    {
      "cell_type": "code",
      "source": [
        "fig, ax = plt.subplots(figsize=(8, 4))\n",
        "ax.plot(dados_brasil['ano'], dados_brasil['imigrantes'], lw=3)\n",
        "ax.set_title('Imigração do Brasil para o Canadá\\n1980 a 2013', fontsize=18, loc='left')\n",
        "ax.set_ylabel('Número de imigrantes', fontsize=14)\n",
        "ax.set_xlabel('Ano', fontsize=14)\n",
        "ax.yaxis.set_tick_params(labelsize=12)\n",
        "ax.xaxis.set_tick_params(labelsize=12)\n",
        "ax.xaxis.set_major_locator(plt.MultipleLocator(5))\n",
        "plt.show()"
      ],
      "metadata": {
        "id": "diV0VQR0na0C"
      },
      "execution_count": null,
      "outputs": []
    },
    {
      "cell_type": "markdown",
      "source": [
        "###Adicionando marcadores"
      ],
      "metadata": {
        "id": "coulD6N5uuEF"
      }
    },
    {
      "cell_type": "code",
      "source": [
        "fig, ax = plt.subplots(figsize=(8, 4))\n",
        "ax.plot(dados_brasil['ano'], dados_brasil['imigrantes'], lw=3, marker='o')\n",
        "ax.set_title('Imigração do Brasil para o Canadá\\n1980 a 2013', fontsize=18, loc='left')\n",
        "ax.set_ylabel('Número de imigrantes', fontsize=14)\n",
        "ax.set_xlabel('Ano', fontsize=14)\n",
        "ax.yaxis.set_tick_params(labelsize=12)\n",
        "ax.xaxis.set_tick_params(labelsize=12)\n",
        "ax.xaxis.set_major_locator(plt.MultipleLocator(5))\n",
        "plt.show()"
      ],
      "metadata": {
        "id": "SXWftiW0utuI"
      },
      "execution_count": null,
      "outputs": []
    },
    {
      "cell_type": "markdown",
      "source": [
        "### Adicionando grid"
      ],
      "metadata": {
        "id": "fejsT9Bhw5m9"
      }
    },
    {
      "cell_type": "code",
      "source": [
        "fig, ax = plt.subplots(figsize=(8, 4))\n",
        "ax.plot(dados_brasil['ano'], dados_brasil['imigrantes'], lw=3)\n",
        "ax.set_title('Imigração do Brasil para o Canadá\\n1980 a 2013', fontsize=18, loc='left')\n",
        "ax.set_ylabel('Número de imigrantes', fontsize=14)\n",
        "ax.set_xlabel('Ano', fontsize=14)\n",
        "ax.yaxis.set_tick_params(labelsize=12)\n",
        "ax.xaxis.set_tick_params(labelsize=12)\n",
        "ax.xaxis.set_major_locator(plt.MultipleLocator(5))\n",
        "plt.grid()\n",
        "plt.show()"
      ],
      "metadata": {
        "id": "98aNUYj9w5Ps"
      },
      "execution_count": null,
      "outputs": []
    },
    {
      "cell_type": "markdown",
      "source": [
        "###Mudando o estilo do grid"
      ],
      "metadata": {
        "id": "JodA2HQVoky1"
      }
    },
    {
      "cell_type": "code",
      "source": [
        "fig, ax = plt.subplots(figsize=(8, 4))\n",
        "ax.plot(dados_brasil['ano'], dados_brasil['imigrantes'], lw=3)\n",
        "ax.set_title('Imigração do Brasil para o Canadá\\n1980 a 2013', fontsize=18, loc='left')\n",
        "ax.set_ylabel('Número de imigrantes', fontsize=14)\n",
        "ax.set_xlabel('Ano', fontsize=14)\n",
        "ax.yaxis.set_tick_params(labelsize=12)\n",
        "ax.xaxis.set_tick_params(labelsize=12)\n",
        "ax.xaxis.set_major_locator(plt.MultipleLocator(5))\n",
        "plt.grid(linestyle='--')\n",
        "plt.show()"
      ],
      "metadata": {
        "id": "_8x6epLcXFcu"
      },
      "execution_count": null,
      "outputs": []
    },
    {
      "cell_type": "markdown",
      "source": [
        "##**Alterando as cores**\n",
        "\n",
        "> As cores podem ser encontradas em: https://matplotlib.org/stable/gallery/color/named_colors.html"
      ],
      "metadata": {
        "id": "EdoeeBPjWqRn"
      }
    },
    {
      "cell_type": "markdown",
      "source": [
        "### Mudando apenas uma cor"
      ],
      "metadata": {
        "id": "3x-rln8-WCm_"
      }
    },
    {
      "cell_type": "code",
      "source": [
        "fig, ax = plt.subplots(figsize=(8, 4))\n",
        "ax.plot(dados_brasil['ano'], dados_brasil['imigrantes'], lw=3, color='g')\n",
        "ax.set_title('Imigração do Brasil para o Canadá\\n1980 a 2013', fontsize=18, loc='left')\n",
        "ax.set_ylabel('Número de imigrantes', fontsize=14)\n",
        "ax.set_xlabel('Ano', fontsize=14)\n",
        "ax.yaxis.set_tick_params(labelsize=12)\n",
        "ax.xaxis.set_tick_params(labelsize=12)\n",
        "ax.xaxis.set_major_locator(plt.MultipleLocator(5))\n",
        "plt.show()"
      ],
      "metadata": {
        "id": "rBK9wFVgWCJ9"
      },
      "execution_count": null,
      "outputs": []
    },
    {
      "cell_type": "markdown",
      "source": [
        "### Mudando várias cores"
      ],
      "metadata": {
        "id": "-m-756Eojue_"
      }
    },
    {
      "cell_type": "code",
      "source": [
        "america_sul = df.query('Região == \"América do Sul\"')"
      ],
      "metadata": {
        "id": "08-xzX73v1Jm"
      },
      "execution_count": null,
      "outputs": []
    },
    {
      "cell_type": "code",
      "source": [
        "america_sul"
      ],
      "metadata": {
        "id": "yQt94LL4wLdm"
      },
      "execution_count": null,
      "outputs": []
    },
    {
      "cell_type": "code",
      "source": [
        "# Lista de cores\n",
        "cores = ['royalblue', 'orange', 'forestgreen', 'orchid', 'purple', 'brown', 'slateblue', 'gray', 'olive', 'navy', 'teal', 'tomato']\n",
        "\n",
        "# Criando a figura\n",
        "fig, ax = plt.subplots(figsize=(12, 5))\n",
        "ax.bar(america_sul.index, america_sul['Total'], color=cores)\n",
        "ax.set_title('Imigração da América do Sul para o Canadá\\n1980 a 2013', loc='left', fontsize=18)\n",
        "ax.set_ylabel('Número de imigrantes', fontsize=14)\n",
        "ax.set_xlabel('')\n",
        "ax.yaxis.set_tick_params(labelsize=12)\n",
        "ax.xaxis.set_tick_params(labelsize=12)\n",
        "\n",
        "plt.show()"
      ],
      "metadata": {
        "id": "FGeOJ34STV8A"
      },
      "execution_count": null,
      "outputs": []
    },
    {
      "cell_type": "markdown",
      "source": [
        "### Deixando o gráfico na horizontal"
      ],
      "metadata": {
        "id": "DP7ichQcx9pT"
      }
    },
    {
      "cell_type": "code",
      "source": [
        "# Lista de cores\n",
        "cores = ['royalblue', 'orange', 'forestgreen', 'orchid', 'purple', 'brown', 'slateblue', 'gray', 'olive', 'navy', 'teal', 'tomato']\n",
        "\n",
        "# Criando a figura\n",
        "fig, ax = plt.subplots(figsize=(12, 5))\n",
        "ax.barh(america_sul.index, america_sul['Total'], color=cores)\n",
        "ax.set_title('Imigração da América do Sul para o Canadá\\n1980 a 2013', loc='left', fontsize=18)\n",
        "ax.set_xlabel('Número de imigrantes', fontsize=14)\n",
        "ax.set_ylabel('')\n",
        "ax.yaxis.set_tick_params(labelsize=12)\n",
        "ax.xaxis.set_tick_params(labelsize=12)\n",
        "\n",
        "plt.show()"
      ],
      "metadata": {
        "id": "q0y1RFLqyBjx"
      },
      "execution_count": null,
      "outputs": []
    },
    {
      "cell_type": "markdown",
      "source": [
        "### Deixando as barras do maior para o menor valor"
      ],
      "metadata": {
        "id": "5-jbUKECyFXT"
      }
    },
    {
      "cell_type": "code",
      "source": [
        "america_sul_sorted = america_sul.sort_values(by='Total', ascending=True)"
      ],
      "metadata": {
        "id": "gxHGxfHWxAw7"
      },
      "execution_count": null,
      "outputs": []
    },
    {
      "cell_type": "code",
      "source": [
        "america_sul_sorted"
      ],
      "metadata": {
        "id": "Nd30O227xSLn"
      },
      "execution_count": null,
      "outputs": []
    },
    {
      "cell_type": "code",
      "source": [
        "# Lista de cores\n",
        "cores = ['royalblue', 'orange', 'forestgreen', 'orchid', 'purple', 'brown', 'slateblue', 'gray', 'olive', 'navy', 'teal', 'tomato']\n",
        "\n",
        "# Criando a figura\n",
        "fig, ax = plt.subplots(figsize=(12, 5))\n",
        "ax.barh(america_sul_sorted.index, america_sul_sorted['Total'], color=cores)\n",
        "ax.set_title('Imigração da América do Sul para o Canadá\\n1980 a 2013', loc='left', fontsize=18)\n",
        "ax.set_xlabel('Número de imigrantes', fontsize=14)\n",
        "ax.set_ylabel('')\n",
        "ax.yaxis.set_tick_params(labelsize=12)\n",
        "ax.xaxis.set_tick_params(labelsize=12)\n",
        "\n",
        "plt.show()"
      ],
      "metadata": {
        "id": "p-yWyQ5oym1O"
      },
      "execution_count": null,
      "outputs": []
    },
    {
      "cell_type": "markdown",
      "source": [
        "### Destacacando informações"
      ],
      "metadata": {
        "id": "2ZUC6WOrjoJ7"
      }
    },
    {
      "cell_type": "code",
      "source": [
        "# Criando uma lista de cores para destacar o Brasil\n",
        "cores = []\n",
        "for pais in america_sul_sorted.index:\n",
        "    if pais == 'Brasil':\n",
        "        cores.append('green')\n",
        "    else:\n",
        "        cores.append('silver')\n",
        "\n",
        "# Criando a figura\n",
        "fig, ax = plt.subplots(figsize=(12, 5))\n",
        "ax.barh(america_sul_sorted.index, america_sul_sorted['Total'], color=cores)\n",
        "ax.set_title('América do Sul: Brasil foi o quarto país com mais imigrantes\\npara o Canadá no período de 1980 a 2013', loc='left', fontsize=16)\n",
        "ax.set_xlabel('Número de imigrantes', fontsize=14)\n",
        "ax.set_ylabel('')\n",
        "ax.yaxis.set_tick_params(labelsize=12)\n",
        "ax.xaxis.set_tick_params(labelsize=12)\n",
        "\n",
        "plt.show()"
      ],
      "metadata": {
        "id": "tRcRV5MinCuf"
      },
      "execution_count": null,
      "outputs": []
    },
    {
      "cell_type": "markdown",
      "source": [
        "##**Adicionando anotações**"
      ],
      "metadata": {
        "id": "Xx32-uzo075z"
      }
    },
    {
      "cell_type": "code",
      "source": [
        "# Criando uma lista de cores para destacar o Brasil\n",
        "cores = []\n",
        "for pais in america_sul_sorted.index:\n",
        "    if pais == 'Brasil':\n",
        "        cores.append('green')\n",
        "    else:\n",
        "        cores.append('silver')\n",
        "\n",
        "# Criando a figura\n",
        "fig, ax = plt.subplots(figsize=(12, 5))\n",
        "ax.barh(america_sul_sorted.index, america_sul_sorted['Total'], color=cores)\n",
        "ax.set_title('América do Sul: Brasil foi o quarto país com mais imigrantes\\npara o Canadá no período de 1980 a 2013', loc='left', fontsize=16)\n",
        "ax.set_xlabel('Número de imigrantes', fontsize=14)\n",
        "ax.set_ylabel('')\n",
        "ax.yaxis.set_tick_params(labelsize=12)\n",
        "ax.xaxis.set_tick_params(labelsize=12)\n",
        "\n",
        "# Loop para adicionar o valor máximo de cada barra\n",
        "for i, v in enumerate(america_sul_sorted['Total']):\n",
        "    ax.text(v + 20, i, str(v), color='black', fontsize=10, ha='left', va='center')\n",
        "\n",
        "plt.show()"
      ],
      "metadata": {
        "id": "XwrGRDlx4iid"
      },
      "execution_count": null,
      "outputs": []
    },
    {
      "cell_type": "markdown",
      "source": [
        "###Retirando o frame"
      ],
      "metadata": {
        "id": "wTdvfdqi4ty7"
      }
    },
    {
      "cell_type": "code",
      "source": [
        "# Criando uma lista de cores para destacar o Brasil\n",
        "cores = []\n",
        "for pais in america_sul_sorted.index:\n",
        "    if pais == 'Brasil':\n",
        "        cores.append('green')\n",
        "    else:\n",
        "        cores.append('silver')\n",
        "\n",
        "# Criando a figura\n",
        "fig, ax = plt.subplots(figsize=(12, 5))\n",
        "ax.barh(america_sul_sorted.index, america_sul_sorted['Total'], color=cores)\n",
        "ax.set_title('América do Sul: Brasil foi o quarto país com mais imigrantes\\npara o Canadá no período de 1980 a 2013', loc='left', fontsize=16)\n",
        "ax.set_xlabel('Número de imigrantes', fontsize=14)\n",
        "ax.set_ylabel('')\n",
        "ax.yaxis.set_tick_params(labelsize=12)\n",
        "ax.xaxis.set_tick_params(labelsize=12)\n",
        "\n",
        "# Loop para adicionar o valor máximo de cada barra\n",
        "for i, v in enumerate(america_sul_sorted['Total']):\n",
        "    ax.text(v + 20, i, str(v), color='black', fontsize=10, ha='left', va='center')\n",
        "\n",
        "# Retirando o Frame (retângulo que encobre os gráficos)\n",
        "ax.set_frame_on(False)\n",
        "\n",
        "plt.show()"
      ],
      "metadata": {
        "id": "qHKQqB9e3Xu8"
      },
      "execution_count": null,
      "outputs": []
    },
    {
      "cell_type": "markdown",
      "source": [
        "### Retirando o eixo X"
      ],
      "metadata": {
        "id": "Q7uXgJBL50Th"
      }
    },
    {
      "cell_type": "code",
      "source": [
        "# Criando uma lista de cores para destacar o Brasil\n",
        "cores = []\n",
        "for pais in america_sul_sorted.index:\n",
        "    if pais == 'Brasil':\n",
        "        cores.append('green')\n",
        "    else:\n",
        "        cores.append('silver')\n",
        "\n",
        "# Criando a figura\n",
        "fig, ax = plt.subplots(figsize=(12, 5))\n",
        "ax.barh(america_sul_sorted.index, america_sul_sorted['Total'], color=cores)\n",
        "ax.set_title('América do Sul: Brasil foi o quarto país com mais imigrantes\\npara o Canadá no período de 1980 a 2013', loc='left', fontsize=16)\n",
        "ax.set_xlabel('Número de imigrantes', fontsize=14)\n",
        "ax.set_ylabel('')\n",
        "ax.yaxis.set_tick_params(labelsize=12)\n",
        "ax.xaxis.set_tick_params(labelsize=12)\n",
        "\n",
        "# Loop para adicionar o valor máximo de cada barra\n",
        "for i, v in enumerate(america_sul_sorted['Total']):\n",
        "    ax.text(v + 20, i, str(v), color='black', fontsize=10, ha='left', va='center')\n",
        "\n",
        "# Retirando o Frame (retângulo que encobre os gráficos)\n",
        "ax.set_frame_on(False)\n",
        "\n",
        "# Retirando o eixo X\n",
        "ax.get_xaxis().set_visible(False)\n",
        "\n",
        "plt.show()"
      ],
      "metadata": {
        "id": "4LFkWiX-3X8u"
      },
      "execution_count": null,
      "outputs": []
    },
    {
      "cell_type": "markdown",
      "source": [
        "### Retirando os ticks ao lado do nome dos países:\n"
      ],
      "metadata": {
        "id": "HAhkpGWu9a2H"
      }
    },
    {
      "cell_type": "code",
      "source": [
        "# Criando uma lista de cores para destacar o Brasil\n",
        "cores = []\n",
        "for pais in america_sul_sorted.index:\n",
        "    if pais == 'Brasil':\n",
        "        cores.append('green')\n",
        "    else:\n",
        "        cores.append('silver')\n",
        "\n",
        "# Criando a figura\n",
        "fig, ax = plt.subplots(figsize=(12, 5))\n",
        "ax.barh(america_sul_sorted.index, america_sul_sorted['Total'], color=cores)\n",
        "ax.set_title('América do Sul: Brasil foi o quarto país com mais imigrantes\\npara o Canadá no período de 1980 a 2013', loc='left', fontsize=16)\n",
        "ax.set_xlabel('Número de imigrantes', fontsize=14)\n",
        "ax.set_ylabel('')\n",
        "ax.yaxis.set_tick_params(labelsize=12)\n",
        "ax.xaxis.set_tick_params(labelsize=12)\n",
        "\n",
        "# Loop para adicionar o valor máximo de cada barra\n",
        "for i, v in enumerate(america_sul_sorted['Total']):\n",
        "    ax.text(v + 20, i, str(v), color='black', fontsize=10, ha='left', va='center')\n",
        "\n",
        "# Retirando o Frame (retângulo que encobre os gráficos)\n",
        "ax.set_frame_on(False)\n",
        "\n",
        "# Retirando o eixo X\n",
        "ax.get_xaxis().set_visible(False)\n",
        "\n",
        "# Removendo todos os ticks dos eixos X e Y\n",
        "ax.tick_params(axis='both', which='both', length=0)\n",
        "\n",
        "plt.show()"
      ],
      "metadata": {
        "id": "pJbsuZqX9aXN"
      },
      "execution_count": null,
      "outputs": []
    },
    {
      "cell_type": "markdown",
      "source": [
        "##**Salvando gráficos**"
      ],
      "metadata": {
        "id": "Iv04nbzfagFx"
      }
    },
    {
      "cell_type": "code",
      "source": [
        "print(fig.canvas.get_supported_filetypes())"
      ],
      "metadata": {
        "id": "4Zu1wGwzpkhD"
      },
      "execution_count": null,
      "outputs": []
    },
    {
      "cell_type": "code",
      "source": [
        "# Figura com as tendências de imigração do Brasil para o Canadá\n",
        "fig, ax = plt.subplots(figsize=(8, 4))\n",
        "ax.plot(dados_brasil['ano'], dados_brasil['imigrantes'], lw=3, color='g')\n",
        "ax.set_title('Imigração do Brasil para o Canadá\\n1980 a 2013', fontsize=18, loc='left')\n",
        "ax.set_xlabel('Ano', fontsize=14)\n",
        "ax.set_ylabel('Número de imigrantes', fontsize=14)\n",
        "ax.yaxis.set_tick_params(labelsize=12)\n",
        "ax.xaxis.set_tick_params(labelsize=12)\n",
        "ax.xaxis.set_major_locator(plt.MultipleLocator(5))\n",
        "ax.spines['top'].set_visible(False)\n",
        "ax.spines['right'].set_visible(False)\n",
        "\n",
        "# Salvando a figura\n",
        "fig.savefig('imigracao_brasil_canada.png', transparent=False, dpi=300, bbox_inches='tight')\n",
        "\n",
        "plt.show()"
      ],
      "metadata": {
        "id": "Tk7JzrHyalkF"
      },
      "execution_count": null,
      "outputs": []
    },
    {
      "cell_type": "code",
      "source": [
        "# Criando uma lista de cores para destacar o Brasil\n",
        "cores = []\n",
        "for pais in america_sul_sorted.index:\n",
        "    if pais == 'Brasil':\n",
        "        cores.append('green')\n",
        "    else:\n",
        "        cores.append('silver')\n",
        "\n",
        "# Criando a figura\n",
        "fig, ax = plt.subplots(figsize=(12, 5))\n",
        "ax.barh(america_sul_sorted.index, america_sul_sorted['Total'], color=cores)\n",
        "ax.set_title('América do Sul: Brasil foi o quarto país com mais imigrantes\\npara o Canadá no período de 1980 a 2013', loc='left', fontsize=16)\n",
        "ax.set_xlabel('Número de imigrantes', fontsize=14)\n",
        "ax.set_ylabel('')\n",
        "ax.yaxis.set_tick_params(labelsize=12)\n",
        "ax.xaxis.set_tick_params(labelsize=12)\n",
        "\n",
        "# Loop para adicionar o valor máximo de cada barra\n",
        "for i, v in enumerate(america_sul_sorted['Total']):\n",
        "    ax.text(v + 20, i, str(v), color='black', fontsize=10, ha='left', va='center')\n",
        "\n",
        "# Retirando o Frame (retângulo que encobre os gráficos)\n",
        "ax.set_frame_on(False)\n",
        "\n",
        "# Retirando o eixo X\n",
        "ax.get_xaxis().set_visible(False)\n",
        "\n",
        "# Removendo todos os ticks dos eixos X e Y\n",
        "ax.tick_params(axis='both', which='both', length=0)\n",
        "\n",
        "# Salvando a figura\n",
        "fig.savefig('imigracao_america_sul.png', transparent=False, dpi=300, bbox_inches='tight')\n",
        "\n",
        "plt.show()"
      ],
      "metadata": {
        "id": "_p4UuRK98MMQ"
      },
      "execution_count": null,
      "outputs": []
    },
    {
      "cell_type": "markdown",
      "source": [
        "# **Aula 4 - Conhecendo a biblioteca Seaborn**\n",
        "\n",
        "> Documentação da biblioteca: https://seaborn.pydata.org/"
      ],
      "metadata": {
        "id": "HGGudpwi2Tut"
      }
    },
    {
      "cell_type": "markdown",
      "source": [
        "##**Criando o primeiro gráfico com Seaborn**"
      ],
      "metadata": {
        "id": "u63_VkgZbd0B"
      }
    },
    {
      "cell_type": "code",
      "source": [
        "import seaborn as sns"
      ],
      "metadata": {
        "id": "cIu6TQWfbcmr"
      },
      "execution_count": null,
      "outputs": []
    },
    {
      "cell_type": "code",
      "source": [
        "sns.set_theme()"
      ],
      "metadata": {
        "id": "97R3zll2BbQM"
      },
      "execution_count": null,
      "outputs": []
    },
    {
      "cell_type": "code",
      "source": [
        "top_10 = df.sort_values(by='Total', ascending=False).head(10)"
      ],
      "metadata": {
        "id": "N7Z-gLRXZA3K"
      },
      "execution_count": null,
      "outputs": []
    },
    {
      "cell_type": "code",
      "source": [
        "top_10"
      ],
      "metadata": {
        "id": "PF3ipCjRZKhm"
      },
      "execution_count": null,
      "outputs": []
    },
    {
      "cell_type": "code",
      "source": [
        "sns.barplot(data=top_10, x=top_10.index, y='Total')"
      ],
      "metadata": {
        "id": "76D8DPfFmhv7"
      },
      "execution_count": null,
      "outputs": []
    },
    {
      "cell_type": "markdown",
      "source": [
        "### Deixando o gráfico de barras na horizontal"
      ],
      "metadata": {
        "id": "V29BmBAI3G4Q"
      }
    },
    {
      "cell_type": "code",
      "source": [
        "sns.barplot(data=top_10, y=top_10.index, x='Total', orient='h')"
      ],
      "metadata": {
        "id": "EyuBBfZQnJk6"
      },
      "execution_count": null,
      "outputs": []
    },
    {
      "cell_type": "markdown",
      "source": [
        "##**Personalizando visualizações com Seaborn**"
      ],
      "metadata": {
        "id": "2XaZBujobjYa"
      }
    },
    {
      "cell_type": "markdown",
      "source": [
        "###Adicionando título e rótulos nos eixos"
      ],
      "metadata": {
        "id": "5rtR90yNhYle"
      }
    },
    {
      "cell_type": "code",
      "source": [
        "# Criando o gráfico com as barras na horizontal\n",
        "ax=sns.barplot(data=top_10, y=top_10.index, x='Total', orient='h')\n",
        "\n",
        "# Adicionando título, rótulos nos eixos\n",
        "ax.set(title='Países com maior imigração para o Canadá\\n1980 a 2013',\n",
        "       xlabel='Número de imigrantes',\n",
        "       ylabel='')\n",
        "\n",
        "# Exibindo o gráfico\n",
        "plt.show()"
      ],
      "metadata": {
        "id": "TC29z6LGffc_"
      },
      "execution_count": null,
      "outputs": []
    },
    {
      "cell_type": "markdown",
      "source": [
        "###Criando uma figura e alterando tamanho das fontes"
      ],
      "metadata": {
        "id": "dUzYP1I7w7yF"
      }
    },
    {
      "cell_type": "code",
      "source": [
        "# Criando a figura\n",
        "fig, ax = plt.subplots(figsize=(8,4))\n",
        "ax=sns.barplot(data=top_10, y=top_10.index, x='Total', orient='h')\n",
        "\n",
        "# Personalizando o gráfico\n",
        "ax.set_title('Países com maior imigração para o Canadá\\n1980 a 2013', loc='left', fontsize=16)\n",
        "ax.set_xlabel('Número de imigrantes', fontsize=14)\n",
        "ax.set_ylabel('')\n",
        "\n",
        "# Exibindo o gráfico\n",
        "plt.show()"
      ],
      "metadata": {
        "id": "kxKL6UAM6dsm"
      },
      "execution_count": null,
      "outputs": []
    },
    {
      "cell_type": "markdown",
      "source": [
        "##**Alterando as cores com paletas**\n",
        "> As paletas podem ser encontradas aqui: https://seaborn.pydata.org/tutorial/color_palettes.html\n",
        "\n"
      ],
      "metadata": {
        "id": "9cHI6v9WbrXw"
      }
    },
    {
      "cell_type": "markdown",
      "source": [
        "### Criando função para gerar o gráfico e testar diferentes paletas de cores"
      ],
      "metadata": {
        "id": "bi0IhzpDvjSg"
      }
    },
    {
      "cell_type": "code",
      "source": [
        "def gerar_grafico_paleta(palette):\n",
        "    fig, ax = plt.subplots(figsize=(8,4))\n",
        "    ax = sns.barplot(data=top_10, y=top_10.index, x='Total', orient='h', palette=palette)\n",
        "    ax.set_title('Países com maior imigração para o Canadá\\n1980 a 2013', loc='left', fontsize=16)\n",
        "    ax.set_xlabel('Número de imigrantes', fontsize=14)\n",
        "    ax.set_ylabel('')\n",
        "    plt.show()"
      ],
      "metadata": {
        "id": "5-18g21dvK5g"
      },
      "execution_count": null,
      "outputs": []
    },
    {
      "cell_type": "markdown",
      "source": [
        "### Paleta de cores sequencial\n",
        "\n"
      ],
      "metadata": {
        "id": "ndqYVUbojyiA"
      }
    },
    {
      "cell_type": "code",
      "source": [
        "gerar_grafico_paleta('Blues')"
      ],
      "metadata": {
        "id": "Jc1QhL37v8FI"
      },
      "execution_count": null,
      "outputs": []
    },
    {
      "cell_type": "markdown",
      "source": [
        "#### Invertendo o gradiente"
      ],
      "metadata": {
        "id": "4CI_QrWhj0sp"
      }
    },
    {
      "cell_type": "code",
      "source": [
        "gerar_grafico_paleta('Blues_r')"
      ],
      "metadata": {
        "id": "5EmtoX61bqeU"
      },
      "execution_count": null,
      "outputs": []
    },
    {
      "cell_type": "markdown",
      "source": [
        "### Paleta de cores divergente\n"
      ],
      "metadata": {
        "id": "eCiQQDL_j4a7"
      }
    },
    {
      "cell_type": "code",
      "source": [
        "gerar_grafico_paleta('rocket')"
      ],
      "metadata": {
        "id": "bVu5KEbYjAdo"
      },
      "execution_count": null,
      "outputs": []
    },
    {
      "cell_type": "code",
      "source": [
        "gerar_grafico_paleta('coolwarm')"
      ],
      "metadata": {
        "id": "G3MkHkdZjZkl"
      },
      "execution_count": null,
      "outputs": []
    },
    {
      "cell_type": "markdown",
      "source": [
        "### Paleta de cores categórica\n"
      ],
      "metadata": {
        "id": "Bt10-uoukBem"
      }
    },
    {
      "cell_type": "code",
      "source": [
        "gerar_grafico_paleta('tab10')"
      ],
      "metadata": {
        "id": "C2HN9D_TjAgH"
      },
      "execution_count": null,
      "outputs": []
    },
    {
      "cell_type": "markdown",
      "source": [
        "##**Explorando temas**"
      ],
      "metadata": {
        "id": "2RiLqFjIbycj"
      }
    },
    {
      "cell_type": "markdown",
      "source": [
        "### dark"
      ],
      "metadata": {
        "id": "qCin1tRH4GH3"
      }
    },
    {
      "cell_type": "code",
      "source": [
        "# Alterando o tema\n",
        "sns.set_theme(style='dark')\n",
        "\n",
        "# Gerando o gráfico\n",
        "gerar_grafico_paleta('tab10')"
      ],
      "metadata": {
        "id": "FPAKS7BwcByN"
      },
      "execution_count": null,
      "outputs": []
    },
    {
      "cell_type": "markdown",
      "source": [
        "### whitegrid"
      ],
      "metadata": {
        "id": "_6OVPcTT4U8Y"
      }
    },
    {
      "cell_type": "code",
      "source": [
        "# Alterando o tema\n",
        "sns.set_theme(style='whitegrid')\n",
        "\n",
        "# Gerando o gráfico\n",
        "gerar_grafico_paleta('tab10')"
      ],
      "metadata": {
        "id": "EcUtN0KA4H-X"
      },
      "execution_count": null,
      "outputs": []
    },
    {
      "cell_type": "markdown",
      "source": [
        "### white"
      ],
      "metadata": {
        "id": "5dcVqeXw4bJM"
      }
    },
    {
      "cell_type": "code",
      "source": [
        "# Alterando o tema\n",
        "sns.set_theme(style='white')\n",
        "\n",
        "# Gerando o gráfico\n",
        "gerar_grafico_paleta('tab10')"
      ],
      "metadata": {
        "id": "vZgegRGb4bSi"
      },
      "execution_count": null,
      "outputs": []
    },
    {
      "cell_type": "markdown",
      "source": [
        "### ticks"
      ],
      "metadata": {
        "id": "fwlWSLDI318G"
      }
    },
    {
      "cell_type": "code",
      "source": [
        "# Alterando o tema\n",
        "sns.set_theme(style='ticks')\n",
        "\n",
        "# Gerando o gráfico\n",
        "gerar_grafico_paleta('tab10')"
      ],
      "metadata": {
        "id": "hr5AJI_Tb1P4"
      },
      "execution_count": null,
      "outputs": []
    },
    {
      "cell_type": "markdown",
      "source": [
        "### sns.despine()"
      ],
      "metadata": {
        "id": "aM_f7nVO7zBG"
      }
    },
    {
      "cell_type": "code",
      "source": [
        "#Criando a figura\n",
        "fig, ax = plt.subplots(figsize=(8,4))\n",
        "sns.barplot(data=top_10, y=top_10.index, x='Total', orient='h', palette='tab10')\n",
        "\n",
        "# Personalizando\n",
        "ax.set_title('Países com maior imigração para o Canadá\\n1980 a 2013', loc='left', fontsize=16)\n",
        "ax.set_xlabel('Número de imigrantes', fontsize=14)\n",
        "ax.set_ylabel('')\n",
        "sns.despine()\n",
        "\n",
        "plt.show()"
      ],
      "metadata": {
        "id": "nI0cLEHob4O3"
      },
      "execution_count": null,
      "outputs": []
    },
    {
      "cell_type": "markdown",
      "source": [
        "# **Aula 5 - Gráficos interativos com Plotly**\n",
        "> Documentação da biblioteca: https://plotly.com/python/plotly-express/"
      ],
      "metadata": {
        "id": "x3R6BLQt2d6G"
      }
    },
    {
      "cell_type": "markdown",
      "source": [
        "##**Criando o primeiro gráfico com Plotly**\n",
        "\n",
        "\n",
        "\n"
      ],
      "metadata": {
        "id": "KnqORFS4cHuK"
      }
    },
    {
      "cell_type": "code",
      "source": [
        "import plotly.express as px"
      ],
      "metadata": {
        "id": "wz9gsM1qcMv0"
      },
      "execution_count": null,
      "outputs": []
    },
    {
      "cell_type": "code",
      "source": [
        "fig = px.line(dados_brasil, x='ano', y='imigrantes')\n",
        "fig.show()"
      ],
      "metadata": {
        "id": "cfg917zJcMyn"
      },
      "execution_count": null,
      "outputs": []
    },
    {
      "cell_type": "markdown",
      "source": [
        "### Alterando o tamanho\n"
      ],
      "metadata": {
        "id": "a_vVzuGQ8PLX"
      }
    },
    {
      "cell_type": "code",
      "source": [
        "fig = px.line(dados_brasil, x='ano', y='imigrantes')\n",
        "fig.update_layout(width=1000, height=500)\n",
        "fig.show()"
      ],
      "metadata": {
        "id": "mN5h92Ip8Ee-"
      },
      "execution_count": null,
      "outputs": []
    },
    {
      "cell_type": "markdown",
      "source": [
        "### Rotacionando os ticks"
      ],
      "metadata": {
        "id": "hyXV6im6DfC0"
      }
    },
    {
      "cell_type": "code",
      "source": [
        "fig = px.line(dados_brasil, x='ano', y='imigrantes')\n",
        "fig.update_layout(width=1000, height=500,\n",
        "                  xaxis={'tickangle': -45})\n",
        "fig.show()"
      ],
      "metadata": {
        "id": "82vt3p4L8m6A"
      },
      "execution_count": null,
      "outputs": []
    },
    {
      "cell_type": "markdown",
      "source": [
        "##**Adicionando títulos e rótulos com Plotly**\n"
      ],
      "metadata": {
        "id": "3abCyxHBcHuK"
      }
    },
    {
      "cell_type": "markdown",
      "source": [
        "### Adicionando título"
      ],
      "metadata": {
        "id": "09qBSVfOXBWf"
      }
    },
    {
      "cell_type": "code",
      "source": [
        "fig = px.line(dados_brasil, x='ano', y='imigrantes',\n",
        "              title='Imigração dos Brasil para o Canadá no período de 1980 a 2013')\n",
        "fig.update_layout(width=1000, height=500,\n",
        "                  xaxis={'tickangle': -45})\n",
        "fig.show()"
      ],
      "metadata": {
        "id": "ZXDQDA-gcNZk"
      },
      "execution_count": null,
      "outputs": []
    },
    {
      "cell_type": "markdown",
      "source": [
        "### Adicionando títulos aos eixos"
      ],
      "metadata": {
        "id": "Ic9lG_veWxMv"
      }
    },
    {
      "cell_type": "code",
      "source": [
        "fig = px.line(dados_brasil, x='ano', y='imigrantes',\n",
        "              title='Imigração do Brasil para o Canadá no período de 1980 a 2013')\n",
        "fig.update_layout(\n",
        "    width=1000, height=500,\n",
        "    xaxis={'tickangle': -45},\n",
        "    xaxis_title='Ano',\n",
        "    yaxis_title='Número de imigrantes')\n",
        "\n",
        "fig.show()"
      ],
      "metadata": {
        "id": "lCb1bpVRcOAP"
      },
      "execution_count": null,
      "outputs": []
    },
    {
      "cell_type": "markdown",
      "source": [
        "##**Personalizando visualizações com Plotly**\n"
      ],
      "metadata": {
        "id": "2RvBG4QicHuK"
      }
    },
    {
      "cell_type": "markdown",
      "source": [
        "### Fonte: alterando tipo, tamanho e cor"
      ],
      "metadata": {
        "id": "DAi46KGUXNEq"
      }
    },
    {
      "cell_type": "code",
      "source": [
        "fig = px.line(dados_brasil, x='ano', y='imigrantes',\n",
        "              title='Imigração do Brasil para o Canadá no período de 1980 a 2013')\n",
        "fig.update_layout(\n",
        "    width=1000, height=500,\n",
        "    xaxis={'tickangle': -45},\n",
        "    font_family='Arial',\n",
        "    font_size=14,\n",
        "    font_color='grey',\n",
        "    title_font_color='black',\n",
        "    title_font_size=22,\n",
        "    xaxis_title='Ano',\n",
        "    yaxis_title='Número de imigrantes')\n",
        "fig.show()"
      ],
      "metadata": {
        "id": "Ee5uAmK7cOG7"
      },
      "execution_count": null,
      "outputs": []
    },
    {
      "cell_type": "markdown",
      "source": [
        "### Alterando a cor da linha"
      ],
      "metadata": {
        "id": "R-58x05JXerd"
      }
    },
    {
      "cell_type": "code",
      "source": [
        "fig = px.line(dados_brasil, x='ano', y='imigrantes',\n",
        "              title='Imigração do Brasil para o Canadá no período de 1980 a 2013')\n",
        "fig.update_traces(line_color='green', line_width=4)\n",
        "fig.update_layout(\n",
        "    width=1000, height=500,\n",
        "    xaxis={'tickangle': -45},\n",
        "    font_family='Arial',\n",
        "    font_size=14,\n",
        "    font_color='grey',\n",
        "    title_font_color='black',\n",
        "    title_font_size=22,\n",
        "    xaxis_title='Ano',\n",
        "    yaxis_title='Número de imigrantes')\n",
        "fig.show()"
      ],
      "metadata": {
        "id": "5i07rEDqcOLu"
      },
      "execution_count": null,
      "outputs": []
    },
    {
      "cell_type": "markdown",
      "source": [
        "### Alterando cores com mais de uma variável"
      ],
      "metadata": {
        "id": "auCALZBqakqD"
      }
    },
    {
      "cell_type": "code",
      "source": [
        "america_sul.head()"
      ],
      "metadata": {
        "id": "BVsV_AOctcj5"
      },
      "execution_count": null,
      "outputs": []
    },
    {
      "cell_type": "code",
      "source": [
        "df_america_sul_clean = america_sul.drop(['Continente', 'Região', 'Total'], axis=1)\n",
        "america_sul_final = df_america_sul_clean.T"
      ],
      "metadata": {
        "id": "Jt8RggguKOsL"
      },
      "execution_count": null,
      "outputs": []
    },
    {
      "cell_type": "code",
      "source": [
        "america_sul_final.head()"
      ],
      "metadata": {
        "id": "vaPVFptXKV-6"
      },
      "execution_count": null,
      "outputs": []
    },
    {
      "cell_type": "code",
      "source": [
        "fig = px.line(america_sul_final, x=america_sul_final.index, y=america_sul_final.columns, color='País',\n",
        "              title='Imigração dos países da América do Sul para o Canadá de 1980 a 2013')\n",
        "fig.update_layout(\n",
        "    xaxis={'tickangle': -45},\n",
        "    xaxis_title='Ano',\n",
        "    yaxis_title='Número de imigrantes')\n",
        "\n",
        "fig.show()"
      ],
      "metadata": {
        "id": "Buy6abXPGKr1"
      },
      "execution_count": null,
      "outputs": []
    },
    {
      "cell_type": "markdown",
      "source": [
        "### Adicionando marcadores"
      ],
      "metadata": {
        "id": "zDVAh-0rGyVt"
      }
    },
    {
      "cell_type": "code",
      "source": [
        "fig = px.line(america_sul_final, x=america_sul_final.index, y=america_sul_final.columns, color='País', markers=True,\n",
        "              title='Imigração dos países da América do Sul para o Canadá de 1980 a 2013')\n",
        "fig.update_layout(\n",
        "    xaxis={'tickangle': -45},\n",
        "    xaxis_title='Ano',\n",
        "    yaxis_title='Número de imigrantes')\n",
        "\n",
        "fig.show()"
      ],
      "metadata": {
        "id": "0c3qh5CRHtea"
      },
      "execution_count": null,
      "outputs": []
    },
    {
      "cell_type": "markdown",
      "source": [
        "##**Salvando gráficos em HTML**"
      ],
      "metadata": {
        "id": "uRVp5WZacHuL"
      }
    },
    {
      "cell_type": "code",
      "source": [
        "fig.write_html('imigracao_america_sul.html')"
      ],
      "metadata": {
        "id": "TNVsigzdcOsM"
      },
      "execution_count": null,
      "outputs": []
    }
  ]
}